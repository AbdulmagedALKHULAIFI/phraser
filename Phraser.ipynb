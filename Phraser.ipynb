{
 "cells": [
  {
   "cell_type": "markdown",
   "metadata": {},
   "source": [
    "# Import"
   ]
  },
  {
   "cell_type": "code",
   "execution_count": null,
   "metadata": {},
   "outputs": [],
   "source": [
    "import nltk\n",
    "import pandas as pd\n",
    "import numpy as np"
   ]
  },
  {
   "cell_type": "markdown",
   "metadata": {},
   "source": [
    "# Installlation"
   ]
  },
  {
   "cell_type": "code",
   "execution_count": null,
   "metadata": {},
   "outputs": [],
   "source": [
    "# nltk.download('punkt')\n",
    "# nltk.download('averaged_perceptron_tagger')\n",
    "# nltk.download('brown')\n",
    "# nltk.download('tagsets')\n",
    "# nltk.download('gutenberg')\n",
    "# nltk.download('genesis')\n",
    "# nltk.download('inaugural')\n",
    "# nltk.download('nps_chat')"
   ]
  },
  {
   "cell_type": "markdown",
   "metadata": {},
   "source": [
    "# Load dataset"
   ]
  },
  {
   "cell_type": "code",
   "execution_count": null,
   "metadata": {},
   "outputs": [],
   "source": [
    "file = open('nltk.txt')\n",
    "read_file = file.read()\n",
    "text = nltk.Text(nltk.word_tokenize(read_file))\n",
    "tags = nltk.pos_tag(text)\n",
    "words = [word for (word, pos) in nltk.pos_tag(text)]\n",
    "pos = [pos for (word, pos) in nltk.pos_tag(text)]\n",
    "# match = text.concordance('car')"
   ]
  },
  {
   "cell_type": "code",
   "execution_count": null,
   "metadata": {},
   "outputs": [],
   "source": [
    "prh = {'Words':words,'Pos':pos}\n",
    "df = pd.DataFrame(prh)\n",
    "df"
   ]
  },
  {
   "cell_type": "code",
   "execution_count": null,
   "metadata": {},
   "outputs": [],
   "source": [
    "df['index']= df.index"
   ]
  },
  {
   "cell_type": "code",
   "execution_count": null,
   "metadata": {},
   "outputs": [],
   "source": [
    "df"
   ]
  },
  {
   "cell_type": "markdown",
   "metadata": {},
   "source": [
    "## List of all example index/position"
   ]
  },
  {
   "cell_type": "code",
   "execution_count": null,
   "metadata": {
    "scrolled": false
   },
   "outputs": [],
   "source": [
    "senDf = df.copy()\n",
    "senDf"
   ]
  },
  {
   "cell_type": "code",
   "execution_count": null,
   "metadata": {},
   "outputs": [],
   "source": [
    "# The list of all examlple index/position\n",
    "indPos = senDf[senDf['Words']==\".\"]\n",
    "indPos"
   ]
  },
  {
   "cell_type": "markdown",
   "metadata": {},
   "source": [
    "# Adding sentance id"
   ]
  },
  {
   "cell_type": "code",
   "execution_count": null,
   "metadata": {},
   "outputs": [],
   "source": [
    "# Create pair of index (Begin,End) of the example\n",
    "splitedSize = 2\n",
    "examplesIndex = [indPos.index[x:x+splitedSize] for x in range(0, len(indPos.index), splitedSize)]\n",
    "examplesIndex"
   ]
  },
  {
   "cell_type": "code",
   "execution_count": null,
   "metadata": {},
   "outputs": [],
   "source": [
    "df[\"sentence_id\"] = \"\"\n",
    "i = 1\n",
    "for exa in examplesIndex:\n",
    "\n",
    "    df['sentence_id'][(df['index']>=exa[0]) & (df['index']<=exa[1] )] = i\n",
    "    i =i+1"
   ]
  },
  {
   "cell_type": "code",
   "execution_count": null,
   "metadata": {},
   "outputs": [],
   "source": [
    "df"
   ]
  },
  {
   "cell_type": "markdown",
   "metadata": {},
   "source": [
    "# Input"
   ]
  },
  {
   "cell_type": "code",
   "execution_count": null,
   "metadata": {},
   "outputs": [],
   "source": [
    "word1 = \"DT\"\n",
    "word2 = \"VBZ\""
   ]
  },
  {
   "cell_type": "markdown",
   "metadata": {},
   "source": [
    "# Filtering"
   ]
  },
  {
   "cell_type": "markdown",
   "metadata": {},
   "source": [
    "## Filter 1"
   ]
  },
  {
   "cell_type": "code",
   "execution_count": null,
   "metadata": {},
   "outputs": [],
   "source": [
    "#Input: the index of the searched word\n",
    "# Output: the position of the end of the example\n",
    "def upperIndex(item,alist):\n",
    "    #find the greater border index \n",
    "    position = np.argmax(alist > item)\n",
    "    return alist[position]"
   ]
  },
  {
   "cell_type": "code",
   "execution_count": null,
   "metadata": {},
   "outputs": [],
   "source": [
    "res = df[(df['Words'].str.contains(word1)) | (df['Pos'].str.contains(word1))]\n",
    "res['index'] = res.index\n",
    "res"
   ]
  },
  {
   "cell_type": "code",
   "execution_count": null,
   "metadata": {},
   "outputs": [],
   "source": [
    "# first filter passed\n",
    "indices = res.iloc[:,2].values\n",
    "indices"
   ]
  },
  {
   "cell_type": "markdown",
   "metadata": {},
   "source": [
    "## Filter 2"
   ]
  },
  {
   "cell_type": "code",
   "execution_count": null,
   "metadata": {},
   "outputs": [],
   "source": [
    "#Get the index of the good example\n",
    "examplesPosition = []\n",
    "for i in indices:\n",
    "    endExample = upperIndex(i,indPos.index)\n",
    "    if(i+1<endExample):\n",
    "        print(endExample)\n",
    "        #Two verifiy that the searched word exist in the 3 next words \n",
    "        if((df.iloc[i+1].Words.lower() == word2.lower() or df.iloc[i+1].Pos.lower() == word2.lower()) or\n",
    "          i+2<endExample and ((df.iloc[i+2].Words.lower() == word2.lower() or df.iloc[i+2].Pos.lower() == word2.lower())) or\n",
    "          i+3<endExample and ((df.iloc[i+3].Words.lower() == word2.lower() or df.iloc[i+3].Pos.lower() == word2.lower()))):\n",
    "                examplesPosition.append(i)\n",
    "examplesPosition"
   ]
  },
  {
   "cell_type": "markdown",
   "metadata": {},
   "source": [
    "# Result"
   ]
  },
  {
   "cell_type": "markdown",
   "metadata": {},
   "source": [
    "## Get the good examples indices"
   ]
  },
  {
   "cell_type": "code",
   "execution_count": null,
   "metadata": {},
   "outputs": [],
   "source": [
    "examplesPosition"
   ]
  },
  {
   "cell_type": "code",
   "execution_count": null,
   "metadata": {},
   "outputs": [],
   "source": [
    "generalIndex = indPos.index.array\n",
    "generalIndex"
   ]
  },
  {
   "cell_type": "code",
   "execution_count": null,
   "metadata": {},
   "outputs": [],
   "source": [
    "#Find the list of index of the final example \n",
    "finalIndexList = []\n",
    "for i in examplesPosition:\n",
    "    #find the greater border index \n",
    "    position = np.argmax(generalIndex > i)\n",
    "    finalIndexList.append(generalIndex[position])\n",
    "    \n",
    "    #Get the smaller border index\n",
    "    indexes = [j for j, x in enumerate(generalIndex) if x < i]\n",
    "    finalIndexList.append(generalIndex[max(indexes)])\n",
    "    \n",
    "finalIndexList.sort()\n",
    "finalIndexList"
   ]
  },
  {
   "cell_type": "markdown",
   "metadata": {},
   "source": [
    "## Create the examples pairs"
   ]
  },
  {
   "cell_type": "code",
   "execution_count": null,
   "metadata": {
    "scrolled": true
   },
   "outputs": [],
   "source": [
    "splitedSize = 2\n",
    "examplesIndex = [finalIndexList[x:x+splitedSize] for x in range(0, len(finalIndexList), splitedSize)]"
   ]
  },
  {
   "cell_type": "code",
   "execution_count": null,
   "metadata": {},
   "outputs": [],
   "source": [
    "examplesIndex"
   ]
  },
  {
   "cell_type": "markdown",
   "metadata": {},
   "source": [
    "## Create the dataframe of the solution"
   ]
  },
  {
   "cell_type": "code",
   "execution_count": null,
   "metadata": {},
   "outputs": [],
   "source": [
    "# Create the solution dataframe\n",
    "columns = ['Words','Pos']\n",
    "finalSolution = pd.DataFrame(columns=columns)\n",
    "\n",
    "for exa in examplesIndex:\n",
    "    finalSolution = finalSolution.append(df.iloc[exa[0]:exa[1]])\n",
    "finalSolution"
   ]
  },
  {
   "cell_type": "code",
   "execution_count": null,
   "metadata": {},
   "outputs": [],
   "source": [
    "[finalSolution.Words]"
   ]
  },
  {
   "cell_type": "markdown",
   "metadata": {},
   "source": [
    "# Show the final answer"
   ]
  },
  {
   "cell_type": "code",
   "execution_count": null,
   "metadata": {},
   "outputs": [],
   "source": []
  }
 ],
 "metadata": {
  "kernelspec": {
   "display_name": "Python 3",
   "language": "python",
   "name": "python3"
  },
  "language_info": {
   "codemirror_mode": {
    "name": "ipython",
    "version": 3
   },
   "file_extension": ".py",
   "mimetype": "text/x-python",
   "name": "python",
   "nbconvert_exporter": "python",
   "pygments_lexer": "ipython3",
   "version": "3.8.5"
  },
  "toc": {
   "base_numbering": 1,
   "nav_menu": {},
   "number_sections": true,
   "sideBar": true,
   "skip_h1_title": false,
   "title_cell": "Table of Contents",
   "title_sidebar": "Contents",
   "toc_cell": false,
   "toc_position": {
    "height": "calc(100% - 180px)",
    "left": "10px",
    "top": "150px",
    "width": "303.825px"
   },
   "toc_section_display": true,
   "toc_window_display": true
  }
 },
 "nbformat": 4,
 "nbformat_minor": 4
}
